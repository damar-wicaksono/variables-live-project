{
 "cells": [
  {
   "cell_type": "markdown",
   "id": "4cfeadee",
   "metadata": {},
   "source": [
    "# Python Variables: Immutable vs. Mutable\n",
    "\n",
    "There are two mental models for how we think about variables in Python:\n",
    "\n",
    "- _Container_: A variable is a box in memory with a value. Only one variable can exist for a given container.\n",
    "- _Labels_: A variable is a label that refer to a location in memory with a value. Many variables can refer to the same location.\n",
    "\n",
    "Python also includes two main types of variables, behavior-wise:\n",
    "\n",
    "- _Immutable_ whose value can't be changed after its creation.\n",
    "- _Mutable_ whose value can be changed after its creation.\n",
    "\n",
    "Let's explore this behavior in several Python types: `int`, `float`, `str`, `tuple`, and `dict`."
   ]
  },
  {
   "cell_type": "markdown",
   "id": "4fa1eec6",
   "metadata": {},
   "source": [
    "## `int`\n",
    "\n",
    "`int` is an immutable data type in Python."
   ]
  },
  {
   "cell_type": "code",
   "execution_count": 38,
   "id": "aece8820",
   "metadata": {},
   "outputs": [
    {
     "name": "stdout",
     "output_type": "stream",
     "text": [
      "<class 'int'> <class 'int'>\n",
      "10 10\n",
      "10 20\n"
     ]
    }
   ],
   "source": [
    "a_int = 10\n",
    "b_int = a_int\n",
    "\n",
    "print(type(a_int), type(b_int))\n",
    "print(a_int, b_int)\n",
    "\n",
    "b_int = 20  # Change the content of the second int\n",
    "print(a_int, b_int)"
   ]
  },
  {
   "cell_type": "markdown",
   "id": "6c6df892",
   "metadata": {},
   "source": [
    "The statement:\n",
    "\n",
    "```python\n",
    "b_int = 20\n",
    "```\n",
    "\n",
    "is not actually a modification of the variable; it's a re-definition; you create a new `int` object. In other words, `a_int` and `b_int` are two different objects."
   ]
  },
  {
   "cell_type": "markdown",
   "id": "d1643f5d",
   "metadata": {},
   "source": [
    "## `float`\n",
    "\n",
    "`float` is an immutable data type in Python."
   ]
  },
  {
   "cell_type": "code",
   "execution_count": 24,
   "id": "0d4b2552",
   "metadata": {},
   "outputs": [
    {
     "name": "stdout",
     "output_type": "stream",
     "text": [
      "<class 'float'> <class 'float'>\n",
      "10.0 20.0\n"
     ]
    }
   ],
   "source": [
    "a_float = 10.0\n",
    "b_float = a_float\n",
    "\n",
    "print(type(a_float), type(b_float))\n",
    "\n",
    "b_float = 20.0  # Change the content of the second variable\n",
    "print(a_float, b_float)"
   ]
  },
  {
   "cell_type": "markdown",
   "id": "88f56d8b",
   "metadata": {},
   "source": [
    "As can be seen a `float`-type variable behaves the same way as `int` variable."
   ]
  },
  {
   "cell_type": "markdown",
   "id": "b9e9e1e4",
   "metadata": {},
   "source": [
    "## `str`\n",
    "\n",
    "`str` is an immutable data type in Python."
   ]
  },
  {
   "cell_type": "code",
   "execution_count": 25,
   "id": "68120e69",
   "metadata": {},
   "outputs": [
    {
     "name": "stdout",
     "output_type": "stream",
     "text": [
      "<class 'str'> <class 'str'>\n",
      "james james\n",
      "james bond\n"
     ]
    }
   ],
   "source": [
    "a_str = \"james\"\n",
    "b_str = a_str\n",
    "\n",
    "print(type(a_str), type(b_str))\n",
    "print(a_str, b_str)\n",
    "\n",
    "b_str = \"bond\"  # Change the content of the second variable\n",
    "print(a_str, b_str)"
   ]
  },
  {
   "cell_type": "markdown",
   "id": "e0421c37",
   "metadata": {},
   "source": [
    "Because `str` is an immutable type, its value cannot be changed.\n",
    "So, while its element can be accessed:"
   ]
  },
  {
   "cell_type": "code",
   "execution_count": 26,
   "id": "8697bc76",
   "metadata": {},
   "outputs": [
    {
     "data": {
      "text/plain": [
       "'ja'"
      ]
     },
     "execution_count": 26,
     "metadata": {},
     "output_type": "execute_result"
    }
   ],
   "source": [
    "a_str[:2]"
   ]
  },
  {
   "cell_type": "markdown",
   "id": "84c98d09",
   "metadata": {},
   "source": [
    "its value can't be changed:"
   ]
  },
  {
   "cell_type": "code",
   "execution_count": 27,
   "id": "73710e6c",
   "metadata": {},
   "outputs": [
    {
     "ename": "TypeError",
     "evalue": "'str' object does not support item assignment",
     "output_type": "error",
     "traceback": [
      "\u001b[1;31m---------------------------------------------------------------------------\u001b[0m",
      "\u001b[1;31mTypeError\u001b[0m                                 Traceback (most recent call last)",
      "\u001b[1;32m<ipython-input-27-062ec224d634>\u001b[0m in \u001b[0;36m<module>\u001b[1;34m\u001b[0m\n\u001b[1;32m----> 1\u001b[1;33m \u001b[0ma_str\u001b[0m\u001b[1;33m[\u001b[0m\u001b[1;33m:\u001b[0m\u001b[1;36m2\u001b[0m\u001b[1;33m]\u001b[0m \u001b[1;33m=\u001b[0m \u001b[1;34m\"la\"\u001b[0m\u001b[1;33m\u001b[0m\u001b[1;33m\u001b[0m\u001b[0m\n\u001b[0m",
      "\u001b[1;31mTypeError\u001b[0m: 'str' object does not support item assignment"
     ]
    }
   ],
   "source": [
    "a_str[:2] = \"la\""
   ]
  },
  {
   "cell_type": "markdown",
   "id": "c1cfa201",
   "metadata": {},
   "source": [
    "Note that the statement:\n",
    "\n",
    "```python\n",
    "b_str = \"bond\"\n",
    "```\n",
    "\n",
    "is not exactly a _modification_ but a _re-definition_; you create a whole new `str` object. `a_str` and `b_str` are two different `str` objects."
   ]
  },
  {
   "cell_type": "markdown",
   "id": "f4f8e1b5",
   "metadata": {},
   "source": [
    "## `list`"
   ]
  },
  {
   "cell_type": "markdown",
   "id": "2a4e7d77",
   "metadata": {},
   "source": [
    "`list` is a mutable data type in Python."
   ]
  },
  {
   "cell_type": "code",
   "execution_count": 34,
   "id": "1c4de80d",
   "metadata": {},
   "outputs": [
    {
     "name": "stdout",
     "output_type": "stream",
     "text": [
      "<class 'list'> <class 'list'>\n",
      "[1, 2, 3] [1, 2, 3]\n",
      "[1, 10, 3] [1, 10, 3]\n"
     ]
    }
   ],
   "source": [
    "a_list = [1, 2, 3]\n",
    "b_list = a_list\n",
    "\n",
    "print(type(a_list), type(b_list))\n",
    "print(a_list, b_list)\n",
    "\n",
    "b_list[1] = 10  # Modify the second list\n",
    "print(a_list, b_list)"
   ]
  },
  {
   "cell_type": "markdown",
   "id": "b1280d93",
   "metadata": {},
   "source": [
    "Because `list` is a mutable data type you can modify its value after creation. Here you can see an interesting behavior of the variables when you change the value of one of them: changing one variable changes the value of the other variable. This variable behaves like a _label_ because these two variables basically refer to the same object."
   ]
  },
  {
   "cell_type": "markdown",
   "id": "583c9a8b",
   "metadata": {},
   "source": [
    "## `tuple`\n",
    "\n",
    "`tuple` is an immutable data type in Python. Think of it as immutable `list`."
   ]
  },
  {
   "cell_type": "code",
   "execution_count": 29,
   "id": "cd2e2c8e",
   "metadata": {},
   "outputs": [
    {
     "name": "stdout",
     "output_type": "stream",
     "text": [
      "<class 'tuple'> <class 'tuple'>\n"
     ]
    }
   ],
   "source": [
    "a_tuple = (1, 2, 3)\n",
    "b_tuple = a_tuple\n",
    "\n",
    "print(type(a_tuple), type(b_tuple))"
   ]
  },
  {
   "cell_type": "markdown",
   "id": "c101f73c",
   "metadata": {},
   "source": [
    "As an immutable data type, its value can be accessed:"
   ]
  },
  {
   "cell_type": "code",
   "execution_count": 30,
   "id": "0b551d2d",
   "metadata": {},
   "outputs": [
    {
     "data": {
      "text/plain": [
       "1"
      ]
     },
     "execution_count": 30,
     "metadata": {},
     "output_type": "execute_result"
    }
   ],
   "source": [
    "b_tuple[0]"
   ]
  },
  {
   "cell_type": "markdown",
   "id": "8675e7ac",
   "metadata": {},
   "source": [
    "but not changed:"
   ]
  },
  {
   "cell_type": "code",
   "execution_count": 31,
   "id": "16cbfaca",
   "metadata": {},
   "outputs": [
    {
     "ename": "TypeError",
     "evalue": "'tuple' object does not support item assignment",
     "output_type": "error",
     "traceback": [
      "\u001b[1;31m---------------------------------------------------------------------------\u001b[0m",
      "\u001b[1;31mTypeError\u001b[0m                                 Traceback (most recent call last)",
      "\u001b[1;32m<ipython-input-31-4c34454b03ed>\u001b[0m in \u001b[0;36m<module>\u001b[1;34m\u001b[0m\n\u001b[1;32m----> 1\u001b[1;33m \u001b[0mb_tuple\u001b[0m\u001b[1;33m[\u001b[0m\u001b[1;36m0\u001b[0m\u001b[1;33m]\u001b[0m \u001b[1;33m=\u001b[0m \u001b[1;36m1\u001b[0m\u001b[1;33m\u001b[0m\u001b[1;33m\u001b[0m\u001b[0m\n\u001b[0m",
      "\u001b[1;31mTypeError\u001b[0m: 'tuple' object does not support item assignment"
     ]
    }
   ],
   "source": [
    "b_tuple[0] = 1"
   ]
  },
  {
   "cell_type": "markdown",
   "id": "912af7b7",
   "metadata": {},
   "source": [
    "## `dict`"
   ]
  },
  {
   "cell_type": "markdown",
   "id": "0277bbbb",
   "metadata": {},
   "source": [
    "`dict` is a mutable data type in Python. It represents key-value data structure."
   ]
  },
  {
   "cell_type": "code",
   "execution_count": 35,
   "id": "0f25dfec",
   "metadata": {},
   "outputs": [
    {
     "name": "stdout",
     "output_type": "stream",
     "text": [
      "<class 'dict'> <class 'dict'>\n",
      "{'1': 1, '2': 2} {'1': 1, '2': 2}\n",
      "{'1': 1, '2': 10} {'1': 1, '2': 10}\n"
     ]
    }
   ],
   "source": [
    "a_dict = {\"1\": 1, \"2\": 2}\n",
    "b_dict = a_dict\n",
    "\n",
    "print(type(a_dict), type(b_dict))\n",
    "print(a_dict, b_dict)\n",
    "\n",
    "b_dict[\"2\"] = 10  # Modify the second dict\n",
    "print(a_dict, b_dict)"
   ]
  },
  {
   "cell_type": "markdown",
   "id": "4e3f79e0",
   "metadata": {},
   "source": [
    "Here also, a `dict` variable behaves like a `list` variable, as a _label_ variable."
   ]
  },
  {
   "cell_type": "markdown",
   "id": "815432a0",
   "metadata": {},
   "source": [
    "## Summary\n",
    "\n",
    "Here's a summary of what I learned about several main types of Python:\n",
    "\n",
    "- Immutable: `int`, `float`, `str`, `tuple`\n",
    "- Mutable: `list`, `dict`\n",
    "\n",
    "Distinguish between _modification_ and _re-definition_. The former modifies the value of a variable keeping the variable intact (if Python allows it, i.e., mutable data types), while the latter re-create a new object entirely."
   ]
  }
 ],
 "metadata": {
  "kernelspec": {
   "display_name": "Python 3",
   "language": "python",
   "name": "python3"
  },
  "language_info": {
   "codemirror_mode": {
    "name": "ipython",
    "version": 3
   },
   "file_extension": ".py",
   "mimetype": "text/x-python",
   "name": "python",
   "nbconvert_exporter": "python",
   "pygments_lexer": "ipython3",
   "version": "3.7.6"
  }
 },
 "nbformat": 4,
 "nbformat_minor": 5
}
