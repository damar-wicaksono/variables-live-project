{
 "cells": [
  {
   "cell_type": "markdown",
   "id": "07345210-6e3d-4b36-907b-31c13d64f62d",
   "metadata": {},
   "source": [
    "# Python Variables: Mental Model"
   ]
  },
  {
   "cell_type": "markdown",
   "id": "2d8bb826-e7b9-4cc2-abfb-8d9d902bc4d5",
   "metadata": {},
   "source": [
    "To really understand how variables work in Python, it's a great idea to have a mental model.\n",
    "A common mental model when thinking about variables in various programming languages is the \"container vs. label\":\n",
    "\n",
    "- _Container_ variable: A variable gets assigned a unique memory location to contain its own data. The variable and the memory location are integral; you cannot have more than one variable referring to the same memory location. Each variable is distinct.\n",
    "- _Label_ variable: A variable is a _label_ that points to an object in memory. More than one variables (i.e., _labels_) may refer to the _same_ object n memory.\n",
    "\n",
    "Which of these two models does variables in Python belong to?"
   ]
  },
  {
   "cell_type": "markdown",
   "id": "92cb724a-2c13-443d-83b8-3d3a97c7c0a4",
   "metadata": {},
   "source": [
    "## `int`"
   ]
  },
  {
   "cell_type": "markdown",
   "id": "80adb909-3d01-47e4-96e2-deb0b265255e",
   "metadata": {},
   "source": [
    "`int` is, as already shown, a immutable data type in Python."
   ]
  },
  {
   "cell_type": "markdown",
   "id": "ccde22ed-3c93-4ce8-a544-bd5485e241ab",
   "metadata": {},
   "source": [
    "Consider the following example:"
   ]
  },
  {
   "cell_type": "code",
   "execution_count": 67,
   "id": "833583c7-5481-4029-91f0-230833d9d1a8",
   "metadata": {},
   "outputs": [
    {
     "name": "stdout",
     "output_type": "stream",
     "text": [
      "a_int, type: <class 'int'>, value: 53432, id: 2046549359568\n",
      "b_int, type: <class 'int'>, value: 53432, id: 2046549359568\n",
      "c_int, type: <class 'int'>, value: 53432, id: 2046549359568\n"
     ]
    }
   ],
   "source": [
    "a_int = 53432\n",
    "b_int = a_int\n",
    "c_int = b_int\n",
    "\n",
    "print(f\"a_int, type: {type(a_int)}, value: {a_int}, id: {id(a_int)}\")\n",
    "print(f\"b_int, type: {type(b_int)}, value: {b_int}, id: {id(b_int)}\")\n",
    "print(f\"c_int, type: {type(c_int)}, value: {c_int}, id: {id(c_int)}\")"
   ]
  },
  {
   "cell_type": "markdown",
   "id": "cbec3d72-05a9-4dbf-acf7-7d4f6bc9ebd4",
   "metadata": {},
   "source": [
    "In the above example, the variables `a_int`, `b_int`, and `c_int` refer to the same integer object with a value of `53432`.\n",
    "Because an `int` is immutable, the value cannot be modified: `1` will always be `1`, `2` will always be `2`, etc.\n",
    "Furthermore, an `int` object does not have an individual element that can be accessed."
   ]
  },
  {
   "cell_type": "markdown",
   "id": "aedb9de5-f02d-4b39-8654-fb3b31d09154",
   "metadata": {},
   "source": [
    "However, the variable can be assigned with a new `int` object of different value:"
   ]
  },
  {
   "cell_type": "code",
   "execution_count": 93,
   "id": "3e00dd58-7235-43aa-b8d6-fbb14ec594e5",
   "metadata": {},
   "outputs": [],
   "source": [
    "c_int = 34325235"
   ]
  },
  {
   "cell_type": "markdown",
   "id": "e77afc0e-eda2-43f8-b220-304edd86682b",
   "metadata": {},
   "source": [
    "a new object is created instead (not modified) and assigned to that variable (as indicated by the output of the `id()` function):"
   ]
  },
  {
   "cell_type": "code",
   "execution_count": 70,
   "id": "db1e2dfa-1974-45ad-800f-493dff250b67",
   "metadata": {},
   "outputs": [
    {
     "name": "stdout",
     "output_type": "stream",
     "text": [
      "c_int, type: <class 'int'>, value: 34325235, id: 2046549360016\n"
     ]
    }
   ],
   "source": [
    "print(f\"c_int, type: {type(c_int)}, value: {c_int}, id: {id(c_int)}\")"
   ]
  },
  {
   "cell_type": "markdown",
   "id": "62cdfb61-760b-4dd0-9776-79ee31116487",
   "metadata": {},
   "source": [
    "If there are other variables refering to the old value, their value remains unchanged.\n",
    "The old object is still being referred to by the other variables."
   ]
  },
  {
   "cell_type": "code",
   "execution_count": 92,
   "id": "1b17d4bc-6e3f-4f2c-abff-c4129cbe8318",
   "metadata": {},
   "outputs": [
    {
     "name": "stdout",
     "output_type": "stream",
     "text": [
      "a_int, type: <class 'int'>, value: 53432, id: 2046549359568\n",
      "b_int, type: <class 'int'>, value: 53432, id: 2046549359568\n",
      "c_int, type: <class 'int'>, value: 34325235, id: 2046549560144\n"
     ]
    }
   ],
   "source": [
    "print(f\"a_int, type: {type(a_int)}, value: {a_int}, id: {id(a_int)}\")\n",
    "print(f\"b_int, type: {type(b_int)}, value: {b_int}, id: {id(b_int)}\")\n",
    "print(f\"c_int, type: {type(c_int)}, value: {c_int}, id: {id(c_int)}\")"
   ]
  },
  {
   "cell_type": "markdown",
   "id": "2ed93fb0-343a-471f-b658-66dbfe3cc53a",
   "metadata": {},
   "source": [
    "## `float`"
   ]
  },
  {
   "cell_type": "markdown",
   "id": "edc90ad6-7de7-4564-a261-97b423926f11",
   "metadata": {},
   "source": [
    "`float` is an immutable data type in Python."
   ]
  },
  {
   "cell_type": "markdown",
   "id": "44152aec-c503-4c00-bc26-84aeee56e21d",
   "metadata": {},
   "source": [
    "In the example below, three variables refer to the same `float` object with value of `53432.0` in the memory as indicated by the results of the `id()` function:"
   ]
  },
  {
   "cell_type": "code",
   "execution_count": 87,
   "id": "5c98b6b9-7832-403a-b5b1-427b9a01da68",
   "metadata": {},
   "outputs": [
    {
     "name": "stdout",
     "output_type": "stream",
     "text": [
      "a_float, type: <class 'float'>, value: 53432.0, id: 2046549359696\n",
      "b_float, type: <class 'float'>, value: 53432.0, id: 2046549359696\n",
      "c_float, type: <class 'float'>, value: 53432.0, id: 2046549359696\n"
     ]
    }
   ],
   "source": [
    "a_float = 53432.0\n",
    "b_float = a_float\n",
    "c_float = b_float\n",
    "\n",
    "print(f\"a_float, type: {type(a_float)}, value: {a_float}, id: {id(a_float)}\")\n",
    "print(f\"b_float, type: {type(b_float)}, value: {b_float}, id: {id(b_float)}\")\n",
    "print(f\"c_float, type: {type(c_float)}, value: {c_float}, id: {id(c_float)}\")"
   ]
  },
  {
   "cell_type": "markdown",
   "id": "b9519b83-c9ed-4798-8894-a0583bcc073c",
   "metadata": {},
   "source": [
    "A `float` object contains no elements that can be individually accessed. But a variable to a `float` object may be assigned another `float` object, like this:"
   ]
  },
  {
   "cell_type": "code",
   "execution_count": 94,
   "id": "38dd77ee-e425-411e-9b45-ab1e98481886",
   "metadata": {},
   "outputs": [],
   "source": [
    "c_float = 123.05"
   ]
  },
  {
   "cell_type": "markdown",
   "id": "2c186c51-85b6-4109-9d7d-41bdd37ea98e",
   "metadata": {},
   "source": [
    "The variable refers to another object, as indicated by the result of the `id()` function:"
   ]
  },
  {
   "cell_type": "code",
   "execution_count": 96,
   "id": "6ee3b1f6-54b3-43ff-bff3-7d87014c2b0d",
   "metadata": {},
   "outputs": [
    {
     "name": "stdout",
     "output_type": "stream",
     "text": [
      "c_float, type: <class 'float'>, value: 123.05, id: 2046549358288\n"
     ]
    }
   ],
   "source": [
    "print(f\"c_float, type: {type(c_float)}, value: {c_float}, id: {id(c_float)}\")"
   ]
  },
  {
   "cell_type": "markdown",
   "id": "b33b1433-e1cf-4f9c-8190-2b2ea3053e97",
   "metadata": {},
   "source": [
    "But the values of the other variables remain the same:"
   ]
  },
  {
   "cell_type": "code",
   "execution_count": 97,
   "id": "559a7d8c-f6c3-4aa2-a189-1fb3bce54c59",
   "metadata": {},
   "outputs": [
    {
     "name": "stdout",
     "output_type": "stream",
     "text": [
      "a_float, type: <class 'float'>, value: 53432.0, id: 2046549359696\n",
      "b_float, type: <class 'float'>, value: 53432.0, id: 2046549359696\n",
      "c_float, type: <class 'float'>, value: 123.05, id: 2046549358288\n"
     ]
    }
   ],
   "source": [
    "print(f\"a_float, type: {type(a_float)}, value: {a_float}, id: {id(a_float)}\")\n",
    "print(f\"b_float, type: {type(b_float)}, value: {b_float}, id: {id(b_float)}\")\n",
    "print(f\"c_float, type: {type(c_float)}, value: {c_float}, id: {id(c_float)}\")"
   ]
  },
  {
   "cell_type": "markdown",
   "id": "e1d71eff-e872-4c9b-abd7-5cd193613667",
   "metadata": {},
   "source": [
    "## `str`"
   ]
  },
  {
   "cell_type": "markdown",
   "id": "9609579c-e32b-4cd4-9f9f-1b33020a2e60",
   "metadata": {},
   "source": [
    "`str` is an immutable data type."
   ]
  },
  {
   "cell_type": "markdown",
   "id": "f0ca1128-ede5-4138-92d4-2e44a6bbc8b6",
   "metadata": {},
   "source": [
    "In the following example, two variables refer to the same `str` object in memory as indicated by the results of the `id()` function:"
   ]
  },
  {
   "cell_type": "code",
   "execution_count": 77,
   "id": "004c9051-d380-4e2b-9fad-05482c7e86fd",
   "metadata": {},
   "outputs": [
    {
     "name": "stdout",
     "output_type": "stream",
     "text": [
      "a_str, type: <class 'str'>, value: Hello, World!, id: 2046548636784\n",
      "b_str, type: <class 'str'>, value: Hello, World!, id: 2046548636784\n"
     ]
    }
   ],
   "source": [
    "a_str = \"Hello, World!\"\n",
    "b_str = a_str\n",
    "\n",
    "print(f\"a_str, type: {type(a_str)}, value: {a_str}, id: {id(a_str)}\")\n",
    "print(f\"b_str, type: {type(b_str)}, value: {b_str}, id: {id(b_str)}\")"
   ]
  },
  {
   "cell_type": "markdown",
   "id": "931ec4a9-d75d-40e4-9a64-ef6c6b5181aa",
   "metadata": {},
   "source": [
    "Elements of a `str` object can be accesssed, for example:"
   ]
  },
  {
   "cell_type": "code",
   "execution_count": 98,
   "id": "0ce24807-ac2c-4215-8ae3-73203a05fc0c",
   "metadata": {},
   "outputs": [
    {
     "data": {
      "text/plain": [
       "'Hello'"
      ]
     },
     "execution_count": 98,
     "metadata": {},
     "output_type": "execute_result"
    }
   ],
   "source": [
    "a_str[0:5]"
   ]
  },
  {
   "cell_type": "markdown",
   "id": "398e3fa6-b231-4382-8c54-af2bc52c6642",
   "metadata": {},
   "source": [
    "However, because `str` data type is immutable, its elements cannot be changed:"
   ]
  },
  {
   "cell_type": "code",
   "execution_count": 99,
   "id": "c5a30f9c-5f43-492a-9049-30dccf46848c",
   "metadata": {},
   "outputs": [
    {
     "ename": "TypeError",
     "evalue": "'str' object does not support item assignment",
     "output_type": "error",
     "traceback": [
      "\u001b[1;31m---------------------------------------------------------------------------\u001b[0m",
      "\u001b[1;31mTypeError\u001b[0m                                 Traceback (most recent call last)",
      "\u001b[1;32m~\\AppData\\Local\\Temp/ipykernel_7756/238291218.py\u001b[0m in \u001b[0;36m<module>\u001b[1;34m\u001b[0m\n\u001b[1;32m----> 1\u001b[1;33m \u001b[0ma_str\u001b[0m\u001b[1;33m[\u001b[0m\u001b[1;36m0\u001b[0m\u001b[1;33m]\u001b[0m \u001b[1;33m=\u001b[0m \u001b[1;34m\"h\"\u001b[0m\u001b[1;33m\u001b[0m\u001b[1;33m\u001b[0m\u001b[0m\n\u001b[0m",
      "\u001b[1;31mTypeError\u001b[0m: 'str' object does not support item assignment"
     ]
    }
   ],
   "source": [
    "a_str[0] = \"h\""
   ]
  },
  {
   "cell_type": "markdown",
   "id": "574bc30a-9157-4560-ba81-3f835d17a597",
   "metadata": {},
   "source": [
    "When one of the above variables is assigned a new object, the variable will refer to the new object and does not affect the other variables:"
   ]
  },
  {
   "cell_type": "code",
   "execution_count": 100,
   "id": "494c933e-698e-4301-80e3-7838526a9aec",
   "metadata": {},
   "outputs": [
    {
     "name": "stdout",
     "output_type": "stream",
     "text": [
      "a_str, type: <class 'str'>, value: Hello, World!, id: 2046548636784\n",
      "b_str, type: <class 'str'>, value: hello, world!, id: 2046550426864\n"
     ]
    }
   ],
   "source": [
    "b_str = \"hello, world!\"\n",
    "\n",
    "print(f\"a_str, type: {type(a_str)}, value: {a_str}, id: {id(a_str)}\")\n",
    "print(f\"b_str, type: {type(b_str)}, value: {b_str}, id: {id(b_str)}\")"
   ]
  },
  {
   "cell_type": "markdown",
   "id": "b79d9b26-64b7-47a4-a1d6-b7a86ea7525e",
   "metadata": {},
   "source": [
    "As indicated by the results of the `id()` function, the two variables now refer to two different objects."
   ]
  },
  {
   "cell_type": "markdown",
   "id": "170891bd-d6a1-4045-afde-526e697548f6",
   "metadata": {},
   "source": [
    "## `list` "
   ]
  },
  {
   "cell_type": "markdown",
   "id": "56ceae3c-6afd-4f56-b364-30f1f7753d5e",
   "metadata": {},
   "source": [
    "`list` is a mutable data type in Python."
   ]
  },
  {
   "cell_type": "markdown",
   "id": "8ecd34b6-e171-424a-9efa-7761a618ad1e",
   "metadata": {},
   "source": [
    "In the example below, three variables refer to the same `list` object in memory as indicated by the results of the `id()` function:"
   ]
  },
  {
   "cell_type": "code",
   "execution_count": 101,
   "id": "96d86334-cf55-4577-8577-194a7a2b975d",
   "metadata": {},
   "outputs": [
    {
     "name": "stdout",
     "output_type": "stream",
     "text": [
      "a_list, type: <class 'list'> value: [1, 2, 3], id: 2046549572608\n",
      "b_list, type: <class 'list'> value: [1, 2, 3], id: 2046549572608\n",
      "c_list, type: <class 'list'> value: [1, 2, 3], id: 2046549572608\n"
     ]
    }
   ],
   "source": [
    "a_list = [1, 2, 3]\n",
    "b_list = a_list\n",
    "c_list = b_list\n",
    "\n",
    "print(f\"a_list, type: {type(a_list)} value: {a_list}, id: {id(a_list)}\")\n",
    "print(f\"b_list, type: {type(b_list)} value: {b_list}, id: {id(b_list)}\")\n",
    "print(f\"c_list, type: {type(c_list)} value: {c_list}, id: {id(c_list)}\")"
   ]
  },
  {
   "cell_type": "markdown",
   "id": "e47a04fe-f3a8-4238-9bbd-ea932af83fb5",
   "metadata": {},
   "source": [
    "Being mutable, the elements of a mutable object can be modified after its creation:"
   ]
  },
  {
   "cell_type": "code",
   "execution_count": 102,
   "id": "09546ff6-4714-4724-b8a0-854f60992073",
   "metadata": {},
   "outputs": [
    {
     "name": "stdout",
     "output_type": "stream",
     "text": [
      "b_list, type: <class 'list'> value: [15, 2, 3], id: 2046549572608\n"
     ]
    }
   ],
   "source": [
    "b_list[0] = 15 \n",
    "\n",
    "print(f\"b_list, type: {type(b_list)} value: {b_list}, id: {id(b_list)}\")"
   ]
  },
  {
   "cell_type": "markdown",
   "id": "ebffc049-f6e1-4dfa-bf8a-176ee68d0da6",
   "metadata": {},
   "source": [
    "As indicated by the result of the `id()` function above, the object is still the same. Furthermore, this modification can also be seen from the other two variables that refer to the same `list` object:"
   ]
  },
  {
   "cell_type": "code",
   "execution_count": 103,
   "id": "4d723365-a17e-4edb-a061-f773eb2bc71f",
   "metadata": {},
   "outputs": [
    {
     "name": "stdout",
     "output_type": "stream",
     "text": [
      "a_list, type: <class 'list'> value: [15, 2, 3], id: 2046549572608\n",
      "b_list, type: <class 'list'> value: [15, 2, 3], id: 2046549572608\n",
      "c_list, type: <class 'list'> value: [15, 2, 3], id: 2046549572608\n"
     ]
    }
   ],
   "source": [
    "print(f\"a_list, type: {type(a_list)} value: {a_list}, id: {id(a_list)}\")\n",
    "print(f\"b_list, type: {type(b_list)} value: {b_list}, id: {id(b_list)}\")\n",
    "print(f\"c_list, type: {type(c_list)} value: {c_list}, id: {id(c_list)}\")"
   ]
  },
  {
   "cell_type": "markdown",
   "id": "e1422e53-434d-46d7-8d65-ea26d56808d1",
   "metadata": {},
   "source": [
    "As indicated by the return values of the `id()` function, the variable `a_list`, `b_list`, and `c_list` all still refer to the same object although the object is already modified."
   ]
  },
  {
   "cell_type": "markdown",
   "id": "a950f6a0-05e2-44aa-bc69-583a9634299e",
   "metadata": {},
   "source": [
    "If one of the variables is assigned a new instance of `list`, then the variable will refer to the new object while the other two still refer to the old object."
   ]
  },
  {
   "cell_type": "code",
   "execution_count": 86,
   "id": "f9bb1693-16d4-4f2a-887f-dce0d21dfc56",
   "metadata": {},
   "outputs": [
    {
     "name": "stdout",
     "output_type": "stream",
     "text": [
      "a_list, type: <class 'list'> value: [15, 2, 3], id: 2046548723456\n",
      "b_list, type: <class 'list'> value: [1, 2, 3, 4], id: 2046550397824\n",
      "c_list, type: <class 'list'> value: [15, 2, 3], id: 2046548723456\n"
     ]
    }
   ],
   "source": [
    "b_list = [1, 2, 3, 4]  # A new list instance\n",
    "\n",
    "print(f\"a_list, type: {type(a_list)} value: {a_list}, id: {id(a_list)}\")\n",
    "print(f\"b_list, type: {type(b_list)} value: {b_list}, id: {id(b_list)}\")\n",
    "print(f\"c_list, type: {type(c_list)} value: {c_list}, id: {id(c_list)}\")"
   ]
  },
  {
   "cell_type": "markdown",
   "id": "95cbf2d3-69da-4db3-ad3d-59ef40d72912",
   "metadata": {},
   "source": [
    "## `tuple`"
   ]
  },
  {
   "cell_type": "markdown",
   "id": "45eb21f4-2f60-4b73-a952-6b40c5281228",
   "metadata": {},
   "source": [
    "`tuple` is an immutable data type in Python."
   ]
  },
  {
   "cell_type": "markdown",
   "id": "b47ea6c2-7f31-4c8b-81c0-e5d73751c7dc",
   "metadata": {},
   "source": [
    "In the example below, two variables refers to the same `tuple` object:"
   ]
  },
  {
   "cell_type": "code",
   "execution_count": 112,
   "id": "552d93d9-7134-40d3-a1ca-96513d426952",
   "metadata": {},
   "outputs": [
    {
     "name": "stdout",
     "output_type": "stream",
     "text": [
      "a_tuple, type: <class 'tuple'>, value: (1, 2, 3), id: 2046545051840\n",
      "b_tuple, type: <class 'tuple'>, value: (1, 2, 3), id: 2046545051840\n"
     ]
    }
   ],
   "source": [
    "a_tuple = (1, 2, 3)\n",
    "b_tuple = a_tuple\n",
    "\n",
    "print(f\"a_tuple, type: {type(a_tuple)}, value: {a_tuple}, id: {id(a_tuple)}\")\n",
    "print(f\"b_tuple, type: {type(b_tuple)}, value: {b_tuple}, id: {id(b_tuple)}\")"
   ]
  },
  {
   "cell_type": "markdown",
   "id": "48a7de7e-3f99-4f18-85b1-18de9219e61b",
   "metadata": {},
   "source": [
    "_immutable_ means that the variable cannot be modified once instantiated, unlike `list`:"
   ]
  },
  {
   "cell_type": "code",
   "execution_count": 113,
   "id": "26dbd885-7963-4c32-90ec-30dd10c6a62c",
   "metadata": {},
   "outputs": [
    {
     "ename": "TypeError",
     "evalue": "'tuple' object does not support item assignment",
     "output_type": "error",
     "traceback": [
      "\u001b[1;31m---------------------------------------------------------------------------\u001b[0m",
      "\u001b[1;31mTypeError\u001b[0m                                 Traceback (most recent call last)",
      "\u001b[1;32m~\\AppData\\Local\\Temp/ipykernel_7756/966911611.py\u001b[0m in \u001b[0;36m<module>\u001b[1;34m\u001b[0m\n\u001b[1;32m----> 1\u001b[1;33m \u001b[0ma_tuple\u001b[0m\u001b[1;33m[\u001b[0m\u001b[1;36m0\u001b[0m\u001b[1;33m]\u001b[0m \u001b[1;33m=\u001b[0m \u001b[1;36m10\u001b[0m\u001b[1;33m\u001b[0m\u001b[1;33m\u001b[0m\u001b[0m\n\u001b[0m",
      "\u001b[1;31mTypeError\u001b[0m: 'tuple' object does not support item assignment"
     ]
    }
   ],
   "source": [
    "a_tuple[0] = 10"
   ]
  },
  {
   "cell_type": "markdown",
   "id": "3be0d2a2-16a5-41e0-881c-13fc34a7acd1",
   "metadata": {},
   "source": [
    "If one of the variables is assigned a new `tuple` object, the variable will refer to the new object while the other variable will still refer to the old object."
   ]
  },
  {
   "cell_type": "code",
   "execution_count": 114,
   "id": "d11028f4-fd80-496c-9474-1b5798d192d6",
   "metadata": {},
   "outputs": [
    {
     "name": "stdout",
     "output_type": "stream",
     "text": [
      "a_tuple, type: <class 'tuple'>, value: (1, 2, 3), id: 2046545051840\n",
      "b_tuple, type: <class 'tuple'>, value: (4, 5, 6), id: 2046545066752\n"
     ]
    }
   ],
   "source": [
    "b_tuple = (4, 5, 6)\n",
    "\n",
    "print(f\"a_tuple, type: {type(a_tuple)}, value: {a_tuple}, id: {id(a_tuple)}\")\n",
    "print(f\"b_tuple, type: {type(b_tuple)}, value: {b_tuple}, id: {id(b_tuple)}\")"
   ]
  },
  {
   "cell_type": "markdown",
   "id": "06a8b226-6890-4c13-b506-9eff81ea843b",
   "metadata": {},
   "source": [
    "## `dict`"
   ]
  },
  {
   "cell_type": "markdown",
   "id": "dcc80c5f-d324-4083-be2a-3c912d9a0eb2",
   "metadata": {},
   "source": [
    "`dict` is a mutable data type in Python."
   ]
  },
  {
   "cell_type": "code",
   "execution_count": 115,
   "id": "5bda94d7-1484-47bc-9354-841d5d3f6b72",
   "metadata": {},
   "outputs": [
    {
     "name": "stdout",
     "output_type": "stream",
     "text": [
      "a_dict, type: <class 'dict'>, value: {'a': 1, 'b': 2, 'c': 3}, id: 2046550463360\n",
      "b_dict, type: <class 'dict'>, value: {'a': 1, 'b': 2, 'c': 3}, id: 2046550463360\n",
      "c_dict, type: <class 'dict'>, value: {'a': 1, 'b': 2, 'c': 3}, id: 2046550463360\n"
     ]
    }
   ],
   "source": [
    "a_dict = {'a': 1, 'b': 2, 'c': 3}\n",
    "b_dict = a_dict\n",
    "c_dict = b_dict\n",
    "\n",
    "print(f\"a_dict, type: {type(a_dict)}, value: {a_dict}, id: {id(a_dict)}\")\n",
    "print(f\"b_dict, type: {type(b_dict)}, value: {b_dict}, id: {id(b_dict)}\")\n",
    "print(f\"c_dict, type: {type(c_dict)}, value: {c_dict}, id: {id(c_dict)}\")"
   ]
  },
  {
   "cell_type": "markdown",
   "id": "baac69d4-e617-403b-a7da-4cbab183d46b",
   "metadata": {},
   "source": [
    "The values of a mutable data type can be modified:"
   ]
  },
  {
   "cell_type": "code",
   "execution_count": 109,
   "id": "1bd7baa0-3180-4374-8c56-243b0fa1977f",
   "metadata": {},
   "outputs": [
    {
     "name": "stdout",
     "output_type": "stream",
     "text": [
      "c_dict, value: {'a': 1, 'b': 2, 'c': 3, 'd': 4}, id: 2046550427008\n"
     ]
    }
   ],
   "source": [
    "c_dict['d'] = 4\n",
    "\n",
    "print(f\"c_dict, value: {c_dict}, id: {id(c_dict)}\")"
   ]
  },
  {
   "cell_type": "markdown",
   "id": "79078638-dca1-4bb3-9e3f-7f5d6dfa83f2",
   "metadata": {},
   "source": [
    "If multiple variables refered to the same object, then the modification made via one variable can be seen in the other variables as exemplified below:"
   ]
  },
  {
   "cell_type": "code",
   "execution_count": 110,
   "id": "37453e85-4389-4e24-8c98-c694c27c8d99",
   "metadata": {},
   "outputs": [
    {
     "name": "stdout",
     "output_type": "stream",
     "text": [
      "a_dict, value: {'a': 1, 'b': 2, 'c': 3, 'd': 4}, id: 2046550427008\n",
      "b_dict, value: {'a': 1, 'b': 2, 'c': 3, 'd': 4}, id: 2046550427008\n",
      "c_dict, value: {'a': 1, 'b': 2, 'c': 3, 'd': 4}, id: 2046550427008\n"
     ]
    }
   ],
   "source": [
    "print(f\"a_dict, value: {a_dict}, id: {id(a_dict)}\")\n",
    "print(f\"b_dict, value: {b_dict}, id: {id(b_dict)}\")\n",
    "print(f\"c_dict, value: {c_dict}, id: {id(c_dict)}\")"
   ]
  },
  {
   "cell_type": "markdown",
   "id": "ca5f5f2b-7934-4fd1-bf89-328650f1a152",
   "metadata": {},
   "source": [
    "All the variables referring to the same object in memory has been modified accordingly."
   ]
  },
  {
   "cell_type": "markdown",
   "id": "1c52721a-cc2f-49fa-ae43-fddd1ef07005",
   "metadata": {},
   "source": [
    "## Summary"
   ]
  },
  {
   "cell_type": "markdown",
   "id": "84fa0a1a-9361-497f-8e7c-a9aedfc9f4eb",
   "metadata": {},
   "source": [
    "**All variables in Python behaves like a _label_**, more than one variables may refer to the same object.\n",
    "\n",
    "If a variable refers to an immutable object (e.g., `int`, `tuple`, `str`), then the only way to change the value is to assigning a new object to it.\n",
    "If there are more than one variable referring to the same immutable object, assigning a new object to one of the variables won't change the other variables.\n",
    "\n",
    "On the other hand, if a variable refers to a mutable object (`list`, `dict`), its value may be modified.\n",
    "If there are more than one variable referring to the same mutable object, the modification of the value via one of the variables can be seen through all the other variables.\n",
    "\n",
    "PS: Two objects with two different `id`s are two different objects (regardless of their value), and vice versa. "
   ]
  }
 ],
 "metadata": {
  "kernelspec": {
   "display_name": "Python 3 (ipykernel)",
   "language": "python",
   "name": "python3"
  },
  "language_info": {
   "codemirror_mode": {
    "name": "ipython",
    "version": 3
   },
   "file_extension": ".py",
   "mimetype": "text/x-python",
   "name": "python",
   "nbconvert_exporter": "python",
   "pygments_lexer": "ipython3",
   "version": "3.8.11"
  }
 },
 "nbformat": 4,
 "nbformat_minor": 5
}
